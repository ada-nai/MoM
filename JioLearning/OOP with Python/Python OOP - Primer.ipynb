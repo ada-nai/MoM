{
 "cells": [
  {
   "cell_type": "markdown",
   "metadata": {},
   "source": [
    "## Programming - Procedural vs. Object-Oriented\n",
    "\n",
    "<br>\n",
    "\n",
    "### Procedural Approach\n",
    "- Procedural programming is where a program is divided into elements called functions\n",
    "- Procedural programming uses a top-bottom approach  \n"
   ]
  },
  {
   "cell_type": "code",
   "execution_count": 1,
   "metadata": {},
   "outputs": [
    {
     "data": {
      "text/plain": [
       "3"
      ]
     },
     "execution_count": 1,
     "metadata": {},
     "output_type": "execute_result"
    }
   ],
   "source": [
    "# Example of a function\n",
    "def add(a, b):\n",
    "    total = a + b\n",
    "    return total\n",
    "\n",
    "# Call the function\n",
    "add(1, 2)"
   ]
  },
  {
   "cell_type": "markdown",
   "metadata": {},
   "source": [
    "\n",
    "### Object-Oriented Approach\n",
    "- Object Oriented programming is where a program is divided into elements called objects\n",
    "- Object Oriented programming follows a bottom-top approach\n",
    "\n",
    "<br>\n",
    "\n",
    "### Objects\n",
    "\n",
    "- Objects can be termed as an entity that can store data as we store in variables\n",
    "- Objects are entities that have certain characteristics and they can perform certain actions\n",
    "\n",
    "<br>\n",
    "\n",
    "### Objects in general use\n",
    "- We have already been using objects "
   ]
  },
  {
   "cell_type": "code",
   "execution_count": 2,
   "metadata": {},
   "outputs": [
    {
     "name": "stdout",
     "output_type": "stream",
     "text": [
      "x belongs to <class 'int'>\n",
      "y belongs to <class 'str'>\n",
      "z belongs to <class 'list'>\n"
     ]
    }
   ],
   "source": [
    "# Using the type() function\n",
    "x = 42 # Object of class int\n",
    "print(f'x belongs to {type(x)}')\n",
    "y = 'Python Community' # Object of class str\n",
    "print(f'y belongs to {type(y)}')\n",
    "z = ['a', 'b', 'c'] # Object of class list\n",
    "print(f'z belongs to {type(z)}')\n"
   ]
  },
  {
   "cell_type": "code",
   "execution_count": 3,
   "metadata": {},
   "outputs": [
    {
     "name": "stdout",
     "output_type": "stream",
     "text": [
      "The list class has 46 functions. Below mentioned are a few functions: \n",
      "['__rmul__', '__setattr__', '__setitem__', '__sizeof__', '__str__', '__subclasshook__', 'append', 'clear', 'copy', 'count']\n"
     ]
    }
   ],
   "source": [
    "# We can know about the functions of a class object using the dir() function\n",
    "print(f'The list class has {len(dir(z))} functions. Below mentioned are a few functions: ')\n",
    "print(dir(z)[-17:-7])"
   ]
  },
  {
   "cell_type": "code",
   "execution_count": 4,
   "metadata": {},
   "outputs": [
    {
     "data": {
      "text/plain": [
       "['a', 'b', 'c', 'd']"
      ]
     },
     "execution_count": 4,
     "metadata": {},
     "output_type": "execute_result"
    }
   ],
   "source": [
    "# Using the append function\n",
    "z.append('d')\n",
    "z"
   ]
  },
  {
   "cell_type": "markdown",
   "metadata": {},
   "source": [
    "### Classes\n",
    "\n",
    "- Classes provide a means of bundling data and functionality together\n",
    "- Creating a new class creates a new type of object, allowing new instances of that type to be made\n",
    "- Classes provide a blueprint for objects\n",
    "- The simplest form of class definition looks like this:\n",
    "\n",
    "```\n",
    "class ClassName:\n",
    "    <statement-1>\n",
    "    .\n",
    "    .\n",
    "    .\n",
    "    <statement-N>\n",
    "```\n",
    "- The class code should be executed before creating objects\n",
    "\n",
    "### Recall: Objects\n",
    "- Characteristics and Actions\n",
    "- Classes provide two kinds of operations: attribute references and instantiation\n",
    "- An object is an instance of a Class\n",
    "- There are two types of valid atrribute references:  \n",
    "    i. Attributes   \n",
    "    ii. Methods"
   ]
  },
  {
   "cell_type": "code",
   "execution_count": 5,
   "metadata": {},
   "outputs": [],
   "source": [
    "# Create a Python class\n",
    "class Rational:\n",
    "    # Structure of the class\n",
    "    # goes here\n",
    "    pass"
   ]
  },
  {
   "cell_type": "code",
   "execution_count": 6,
   "metadata": {},
   "outputs": [
    {
     "data": {
      "text/plain": [
       "__main__.Rational"
      ]
     },
     "execution_count": 6,
     "metadata": {},
     "output_type": "execute_result"
    }
   ],
   "source": [
    "# Create a new instance of the class `Rational`\n",
    "frac = Rational()\n",
    "type(frac)"
   ]
  },
  {
   "cell_type": "markdown",
   "metadata": {},
   "source": [
    "#### The `__init__` Method\n",
    "> We can define the instantiation of a Class using the `__init__` method\n",
    "\n",
    "#### Creating a class for Rational Numbers\n",
    "<br>\n",
    "\n",
    "__\" In mathematics, a rational number is a number that can be expressed as the quotient or fraction `p/q` of two integers, a numerator `p` and a non-zero denominator `q`.\"__"
   ]
  },
  {
   "cell_type": "code",
   "execution_count": 7,
   "metadata": {},
   "outputs": [],
   "source": [
    "class Rational:\n",
    "    def __init__(self, num, denom):\n",
    "        self.num = num\n",
    "        self.denom = denom"
   ]
  },
  {
   "cell_type": "code",
   "execution_count": 8,
   "metadata": {
    "scrolled": true
   },
   "outputs": [
    {
     "name": "stdout",
     "output_type": "stream",
     "text": [
      "__init__() missing 2 required positional arguments: 'num' and 'denom'\n"
     ]
    }
   ],
   "source": [
    "try:\n",
    "    frac = Rational()\n",
    "except Exception as e:\n",
    "    print(e)"
   ]
  },
  {
   "cell_type": "code",
   "execution_count": 9,
   "metadata": {},
   "outputs": [],
   "source": [
    "frac = Rational(1, 2)"
   ]
  },
  {
   "cell_type": "markdown",
   "metadata": {},
   "source": [
    "#### `Self` keyword\n",
    "- The `self` keyword is a reference to the instance on which the method is being called \n",
    "- The first argument to a class method is generally `self`\n",
    "- The name `self` is a convention (highly recommended), not compulsion"
   ]
  },
  {
   "cell_type": "markdown",
   "metadata": {},
   "source": [
    "#### String representation of a Class"
   ]
  },
  {
   "cell_type": "code",
   "execution_count": 10,
   "metadata": {},
   "outputs": [
    {
     "data": {
      "text/plain": [
       "<__main__.Rational at 0x224078e35c0>"
      ]
     },
     "execution_count": 10,
     "metadata": {},
     "output_type": "execute_result"
    }
   ],
   "source": [
    "frac"
   ]
  },
  {
   "cell_type": "markdown",
   "metadata": {},
   "source": [
    "##### The `__repr__` method\n",
    "> The `__repr__` method helps in 'printing' the object as per our needs"
   ]
  },
  {
   "cell_type": "code",
   "execution_count": 11,
   "metadata": {},
   "outputs": [],
   "source": [
    "class Rational:\n",
    "    def __init__(self, num, denom):\n",
    "        self.num = num\n",
    "        self.denom = denom\n",
    "    \n",
    "    def __repr__(self):\n",
    "        return f'{self.num}/{self.denom}'"
   ]
  },
  {
   "cell_type": "code",
   "execution_count": 12,
   "metadata": {},
   "outputs": [
    {
     "data": {
      "text/plain": [
       "1/2"
      ]
     },
     "execution_count": 12,
     "metadata": {},
     "output_type": "execute_result"
    }
   ],
   "source": [
    "frac = Rational(1, 2)\n",
    "frac"
   ]
  },
  {
   "cell_type": "markdown",
   "metadata": {},
   "source": [
    "[How and When to Use  `__str__`](https://realpython.com/lessons/how-and-when-use-__str__/)\n"
   ]
  },
  {
   "cell_type": "markdown",
   "metadata": {},
   "source": [
    "#### Dunder Methods\n",
    "- Dunders refer to 'Double underscores'\n",
    "- Dunder methods have a special purpose in the Python language\n",
    "- These are also known as 'magic methods'\n",
    "- Avoid using such names in variables\n",
    "- However, these can be used to create/modify functionalities in special circumstances (Private methods)"
   ]
  },
  {
   "cell_type": "markdown",
   "metadata": {},
   "source": [
    "### Creating methods of a class"
   ]
  },
  {
   "cell_type": "code",
   "execution_count": 93,
   "metadata": {},
   "outputs": [],
   "source": [
    " class Rational:\n",
    "    def __init__(self, num, denom):\n",
    "        self.num = num\n",
    "        self.denom = denom\n",
    "    \n",
    "    def __repr__(self):\n",
    "        return f'{self.num}/{self.denom}'\n",
    "    \n",
    "    def __mul__(self, number):\n",
    "            if isinstance(number, int):\n",
    "                return Rational(self.num * number, self.denom)\n",
    "            elif isinstance(number, Rational):\n",
    "                return Rational(self.num * number.num, self.denom * number.denom)\n",
    "            else:\n",
    "                raise TypeError(f'Expected number to be int or Rational. Got {type(number)}')"
   ]
  },
  {
   "cell_type": "code",
   "execution_count": 14,
   "metadata": {},
   "outputs": [],
   "source": [
    "isinstance?"
   ]
  },
  {
   "cell_type": "code",
   "execution_count": 15,
   "metadata": {},
   "outputs": [
    {
     "data": {
      "text/plain": [
       "2/2"
      ]
     },
     "execution_count": 15,
     "metadata": {},
     "output_type": "execute_result"
    }
   ],
   "source": [
    "frac = Rational(1, 2)\n",
    "result = frac * 2\n",
    "result"
   ]
  },
  {
   "cell_type": "code",
   "execution_count": 16,
   "metadata": {},
   "outputs": [],
   "source": [
    "# Create multiple instances of a Class\n",
    "frac1 = Rational(2, 3)\n",
    "frac2 = Rational(5, 8)"
   ]
  },
  {
   "cell_type": "code",
   "execution_count": 17,
   "metadata": {},
   "outputs": [
    {
     "data": {
      "text/plain": [
       "10/24"
      ]
     },
     "execution_count": 17,
     "metadata": {},
     "output_type": "execute_result"
    }
   ],
   "source": [
    "frac_product = frac1 * frac2\n",
    "frac_product"
   ]
  },
  {
   "cell_type": "markdown",
   "metadata": {},
   "source": [
    "####  Class and Instance Variables\n",
    "> Instance variables are for data unique to each instance and class variables are for attributes and methods shared by all instances of the class"
   ]
  },
  {
   "cell_type": "markdown",
   "metadata": {},
   "source": [
    "### Inheritance\n",
    "\n",
    "- It is the ability to create a new class by extending an existing class\n",
    "- The existing class is called the 'Parent class', while the new class is referred to as the 'Child class'\n",
    "- Thus, the child class extends the parent class' attributes and methods\n",
    "- Major types:  \n",
    "    i. Single-level Inheritance  \n",
    "    ii. Multi-level Inheritance  \n",
    "    iii. Multiple Inheritance  \n",
    "\n",
    "<br>\n",
    "\n",
    "The syntax for a derived class definition looks like this:\n",
    "\n",
    "```\n",
    "class Child_Name(Parent_Name):\n",
    "    <statement-1>\n",
    "    .\n",
    "    .\n",
    "    .\n",
    "    <statement-N>\n",
    "```\n"
   ]
  },
  {
   "cell_type": "code",
   "execution_count": 68,
   "metadata": {},
   "outputs": [],
   "source": [
    "class Rectangle:\n",
    "    '''\n",
    "    Name: Rectangle\n",
    "    \n",
    "    Parameters:\n",
    "    height - height(h) of the rectangle \n",
    "    length - length(l) of the rectangle\n",
    "    '''\n",
    "    def __init__(self, height, length):\n",
    "        self.height = height\n",
    "        self.length = length\n",
    "    \n",
    "    def area(self):\n",
    "        '''Calculates the area. It is calculated by a = l*b'''\n",
    "        \n",
    "        return self.height * self.length\n",
    "    \n",
    "    def perimeter(self):\n",
    "        # Calculates the perimeter. It is calculated by a = 2(l+b)\n",
    "\n",
    "        return 2 * (self.height + self.length)"
   ]
  },
  {
   "cell_type": "code",
   "execution_count": 69,
   "metadata": {},
   "outputs": [
    {
     "data": {
      "text/plain": [
       "9"
      ]
     },
     "execution_count": 69,
     "metadata": {},
     "output_type": "execute_result"
    }
   ],
   "source": [
    "# Inheriting using the super() keyword\n",
    "class SuperSquare(Rectangle):\n",
    "    def __init__(self, side):\n",
    "        super().__init__(side, side)\n",
    "\n",
    "ss = SuperSquare(3)\n",
    "ss.area()"
   ]
  },
  {
   "cell_type": "code",
   "execution_count": 70,
   "metadata": {},
   "outputs": [
    {
     "data": {
      "text/plain": [
       "25"
      ]
     },
     "execution_count": 70,
     "metadata": {},
     "output_type": "execute_result"
    }
   ],
   "source": [
    "# Inheriting using ParentClass name\n",
    "class Square(Rectangle):\n",
    "    def __init__(self, side):\n",
    "        Rectangle.__init__(self, side, side)\n",
    "\n",
    "s = Square(5)\n",
    "s.area()"
   ]
  },
  {
   "cell_type": "markdown",
   "metadata": {},
   "source": [
    "### Docstrings"
   ]
  },
  {
   "cell_type": "markdown",
   "metadata": {},
   "source": [
    "- Docstrings are a way to document your code, so that the readers can better know about the class' functionality\n",
    "- Types of docstring:\n",
    "    - Single-line docstrings \n",
    "    - Multi-line docstrings\n",
    "- The documenting text are enclosed within triple quotes\n",
    "- Both single/double quotes work\n",
    "- Python in-built docstrings\n",
    "    - The `__doc__` attribute\n",
    "    - The `help()` function"
   ]
  },
  {
   "cell_type": "code",
   "execution_count": 75,
   "metadata": {},
   "outputs": [],
   "source": [
    "# View documentation for perimeter method (Docstrings not used, only comments were added)\n",
    "ss.perimeter?"
   ]
  },
  {
   "cell_type": "code",
   "execution_count": 74,
   "metadata": {},
   "outputs": [],
   "source": [
    "# View documentation for perimeter method (Docstrings used)\n",
    "ss.area?"
   ]
  },
  {
   "cell_type": "code",
   "execution_count": 76,
   "metadata": {},
   "outputs": [
    {
     "name": "stdout",
     "output_type": "stream",
     "text": [
      "\n",
      "    Name: Rectangle\n",
      "    \n",
      "    Parameters:\n",
      "    height - height(h) of the rectangle \n",
      "    length - length(l) of the rectangle\n",
      "    \n"
     ]
    }
   ],
   "source": [
    "# Using the `__doc__` attribute\n",
    "print(Rectangle.__doc__)"
   ]
  },
  {
   "cell_type": "code",
   "execution_count": 77,
   "metadata": {},
   "outputs": [
    {
     "name": "stdout",
     "output_type": "stream",
     "text": [
      "Help on class Rectangle in module __main__:\n",
      "\n",
      "class Rectangle(builtins.object)\n",
      " |  Rectangle(height, length)\n",
      " |  \n",
      " |  Name: Rectangle\n",
      " |  \n",
      " |  Parameters:\n",
      " |  height - height(h) of the rectangle \n",
      " |  length - length(l) of the rectangle\n",
      " |  \n",
      " |  Methods defined here:\n",
      " |  \n",
      " |  __init__(self, height, length)\n",
      " |      Initialize self.  See help(type(self)) for accurate signature.\n",
      " |  \n",
      " |  area(self)\n",
      " |      Calculates the area. It is calculated by a = l*b\n",
      " |  \n",
      " |  perimeter(self)\n",
      " |  \n",
      " |  ----------------------------------------------------------------------\n",
      " |  Data descriptors defined here:\n",
      " |  \n",
      " |  __dict__\n",
      " |      dictionary for instance variables (if defined)\n",
      " |  \n",
      " |  __weakref__\n",
      " |      list of weak references to the object (if defined)\n",
      "\n"
     ]
    }
   ],
   "source": [
    "# Using the `help()` function. It is more verbose\n",
    "help(Rectangle)"
   ]
  },
  {
   "cell_type": "markdown",
   "metadata": {},
   "source": [
    "### Using Classes"
   ]
  },
  {
   "cell_type": "code",
   "execution_count": 97,
   "metadata": {},
   "outputs": [
    {
     "data": {
      "text/plain": [
       "5.0"
      ]
     },
     "execution_count": 97,
     "metadata": {},
     "output_type": "execute_result"
    }
   ],
   "source": [
    "#### For downloaded packages\n",
    "\n",
    "import math # imports the `math` package\n",
    "sqroot = math.sqrt(25)\n",
    "sqroot\n"
   ]
  },
  {
   "cell_type": "markdown",
   "metadata": {},
   "source": [
    "#### For classes in other file in the same directory\n",
    "```\n",
    "from file_name import class_name\n",
    "a = class_name.class_method()\n",
    "```"
   ]
  },
  {
   "cell_type": "code",
   "execution_count": 100,
   "metadata": {},
   "outputs": [
    {
     "name": "stdout",
     "output_type": "stream",
     "text": [
      "12/45\n"
     ]
    }
   ],
   "source": [
    "from RationalNumber import Rational\n",
    "rat = Rational(4, 5)\n",
    "product = rat * Rational(3, 9)\n",
    "print(product)"
   ]
  },
  {
   "cell_type": "markdown",
   "metadata": {},
   "source": [
    "### Creating methods outside the Class"
   ]
  },
  {
   "cell_type": "markdown",
   "metadata": {},
   "source": [
    "- Methods for a class can be created outside the class too\n",
    "- It works as long as there is a reference to the method within the class\n",
    "- This practice is not recommended and can often confuse the readers"
   ]
  },
  {
   "cell_type": "code",
   "execution_count": 60,
   "metadata": {},
   "outputs": [
    {
     "data": {
      "text/plain": [
       "7.0710678118654755"
      ]
     },
     "execution_count": 60,
     "metadata": {},
     "output_type": "execute_result"
    }
   ],
   "source": [
    "import math\n",
    "\n",
    "def diagonal(self, side):\n",
    "        diagonal = math.sqrt(2) * side\n",
    "        return diagonal\n",
    "\n",
    "\n",
    "# Inheriting using ParentClass name\n",
    "class Square(Rectangle):\n",
    "    '''\n",
    "    The square class is inherited from the Rectangle class.\n",
    "    Args:\n",
    "    side - Side of the square\n",
    "    '''\n",
    "    def __init__(self, side):\n",
    "        Rectangle.__init__(self, side, side)\n",
    "        \n",
    "    calculate_diagonal = diagonal\n",
    "\n",
    "\n",
    "s = Square(5)\n",
    "s.area()\n",
    "s.calculate_diagonal(5)"
   ]
  },
  {
   "cell_type": "markdown",
   "metadata": {},
   "source": [
    "## Articles for reference\n",
    "- [F-strings](https://realpython.com/python-f-strings/)\n",
    "- [`isinstance()`](https://python-reference.readthedocs.io/en/latest/docs/functions/isinstance.html)\n",
    "- [Classes in Python3](https://docs.python.org/3.8/tutorial/classes.html)"
   ]
  },
  {
   "cell_type": "code",
   "execution_count": null,
   "metadata": {},
   "outputs": [],
   "source": []
  }
 ],
 "metadata": {
  "kernelspec": {
   "display_name": "Python 3",
   "language": "python",
   "name": "python3"
  },
  "language_info": {
   "codemirror_mode": {
    "name": "ipython",
    "version": 3
   },
   "file_extension": ".py",
   "mimetype": "text/x-python",
   "name": "python",
   "nbconvert_exporter": "python",
   "pygments_lexer": "ipython3",
   "version": "3.7.3"
  }
 },
 "nbformat": 4,
 "nbformat_minor": 2
}
